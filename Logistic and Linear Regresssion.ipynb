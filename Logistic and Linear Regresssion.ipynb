{
 "cells": [
  {
   "cell_type": "code",
   "execution_count": 1,
   "id": "7a2cb3b3",
   "metadata": {},
   "outputs": [],
   "source": [
    "import numpy as np\n",
    "import pandas as pd\n",
    "from sklearn.preprocessing import LabelEncoder\n",
    "from sklearn.datasets import make_classification\n",
    "from matplotlib import pyplot as plt\n",
    "from sklearn.linear_model import LogisticRegression\n",
    "from sklearn.linear_model import LinearRegression\n",
    "from sklearn.model_selection import train_test_split\n",
    "from sklearn.metrics import accuracy_score,confusion_matrix"
   ]
  },
  {
   "cell_type": "code",
   "execution_count": 3,
   "id": "b30b5f64",
   "metadata": {},
   "outputs": [
    {
     "data": {
      "text/html": [
       "<div>\n",
       "<style scoped>\n",
       "    .dataframe tbody tr th:only-of-type {\n",
       "        vertical-align: middle;\n",
       "    }\n",
       "\n",
       "    .dataframe tbody tr th {\n",
       "        vertical-align: top;\n",
       "    }\n",
       "\n",
       "    .dataframe thead th {\n",
       "        text-align: right;\n",
       "    }\n",
       "</style>\n",
       "<table border=\"1\" class=\"dataframe\">\n",
       "  <thead>\n",
       "    <tr style=\"text-align: right;\">\n",
       "      <th></th>\n",
       "      <th>Date</th>\n",
       "      <th>Country</th>\n",
       "      <th>Confirmed</th>\n",
       "      <th>Recovered</th>\n",
       "      <th>Deaths</th>\n",
       "    </tr>\n",
       "  </thead>\n",
       "  <tbody>\n",
       "    <tr>\n",
       "      <th>0</th>\n",
       "      <td>22-03-2020</td>\n",
       "      <td>Afghanistan</td>\n",
       "      <td>78</td>\n",
       "      <td>21</td>\n",
       "      <td>11</td>\n",
       "    </tr>\n",
       "    <tr>\n",
       "      <th>1</th>\n",
       "      <td>23-03-2020</td>\n",
       "      <td>India</td>\n",
       "      <td>40</td>\n",
       "      <td>1</td>\n",
       "      <td>1</td>\n",
       "    </tr>\n",
       "    <tr>\n",
       "      <th>2</th>\n",
       "      <td>24-03-2020</td>\n",
       "      <td>India</td>\n",
       "      <td>42</td>\n",
       "      <td>1</td>\n",
       "      <td>1</td>\n",
       "    </tr>\n",
       "    <tr>\n",
       "      <th>3</th>\n",
       "      <td>25-03-2020</td>\n",
       "      <td>India</td>\n",
       "      <td>74</td>\n",
       "      <td>2</td>\n",
       "      <td>1</td>\n",
       "    </tr>\n",
       "    <tr>\n",
       "      <th>4</th>\n",
       "      <td>26-03-2020</td>\n",
       "      <td>USA</td>\n",
       "      <td>80</td>\n",
       "      <td>2</td>\n",
       "      <td>2</td>\n",
       "    </tr>\n",
       "  </tbody>\n",
       "</table>\n",
       "</div>"
      ],
      "text/plain": [
       "         Date      Country  Confirmed  Recovered  Deaths\n",
       "0  22-03-2020  Afghanistan         78         21      11\n",
       "1  23-03-2020        India         40          1       1\n",
       "2  24-03-2020        India         42          1       1\n",
       "3  25-03-2020        India         74          2       1\n",
       "4  26-03-2020          USA         80          2       2"
      ]
     },
     "execution_count": 3,
     "metadata": {},
     "output_type": "execute_result"
    }
   ],
   "source": [
    "dataset = pd.read_csv(r'C:\\Users\\admin\\Desktop\\covid-19-main\\data\\Countiresdataset.csv')\n",
    "dataset.head()"
   ]
  },
  {
   "cell_type": "code",
   "execution_count": 4,
   "id": "fb3dae2b",
   "metadata": {},
   "outputs": [],
   "source": [
    "x,y=make_classification(\n",
    "    n_samples=100,\n",
    "    n_features=1,\n",
    "    n_classes=2,\n",
    "    n_clusters_per_class=1,\n",
    "    flip_y=0.03,\n",
    "    n_informative=1,\n",
    "    n_redundant=0,\n",
    "    n_repeated=0\n",
    ")"
   ]
  },
  {
   "cell_type": "code",
   "execution_count": 5,
   "id": "3a2dc346",
   "metadata": {},
   "outputs": [
    {
     "data": {
      "text/plain": [
       "<matplotlib.collections.PathCollection at 0x156a0203670>"
      ]
     },
     "execution_count": 5,
     "metadata": {},
     "output_type": "execute_result"
    },
    {
     "data": {
      "image/png": "[encoded data removed]",
      "text/plain": [
       "<Figure size 432x288 with 1 Axes>"
      ]
     },
     "metadata": {
      "needs_background": "light"
     },
     "output_type": "display_data"
    }
   ],
   "source": [
    "plt.scatter(x,y,c=y,cmap='rainbow')"
   ]
  },
  {
   "cell_type": "code",
   "execution_count": 6,
   "id": "776b7874",
   "metadata": {},
   "outputs": [],
   "source": [
    "x_train,x_test,y_train,y_test=train_test_split(x,y,random_state=1)"
   ]
  },
  {
   "cell_type": "code",
   "execution_count": 7,
   "id": "334563a7",
   "metadata": {},
   "outputs": [
    {
     "data": {
      "text/plain": [
       "LogisticRegression()"
      ]
     },
     "execution_count": 7,
     "metadata": {},
     "output_type": "execute_result"
    }
   ],
   "source": [
    "log_reg=LogisticRegression()\n",
    "log_reg.fit(x_train,y_train)"
   ]
  },
  {
   "cell_type": "code",
   "execution_count": 8,
   "id": "29d468ec",
   "metadata": {},
   "outputs": [
    {
     "name": "stdout",
     "output_type": "stream",
     "text": [
      "[[2.90313443]]\n"
     ]
    }
   ],
   "source": [
    "print(log_reg.coef_)"
   ]
  },
  {
   "cell_type": "code",
   "execution_count": 9,
   "id": "afd98850",
   "metadata": {},
   "outputs": [
    {
     "name": "stdout",
     "output_type": "stream",
     "text": [
      "[0.0524103]\n"
     ]
    }
   ],
   "source": [
    "print(log_reg.intercept_)"
   ]
  },
  {
   "cell_type": "code",
   "execution_count": 10,
   "id": "8dc6c94b",
   "metadata": {},
   "outputs": [],
   "source": [
    "yPred=log_reg.predict(x_test)"
   ]
  },
  {
   "cell_type": "code",
   "execution_count": 11,
   "id": "5c2e5a58",
   "metadata": {},
   "outputs": [
    {
     "data": {
      "text/plain": [
       "array([[12,  0],\n",
       "       [ 1, 12]], dtype=int64)"
      ]
     },
     "execution_count": 11,
     "metadata": {},
     "output_type": "execute_result"
    }
   ],
   "source": [
    "confusion_matrix(y_test,yPred)"
   ]
  },
  {
   "cell_type": "code",
   "execution_count": 12,
   "id": "88b0e114",
   "metadata": {},
   "outputs": [
    {
     "data": {
      "text/plain": [
       "array([[0.9705465 , 0.0294535 ],\n",
       "       [0.996918  , 0.003082  ],\n",
       "       [0.98939348, 0.01060652],\n",
       "       [0.35813987, 0.64186013],\n",
       "       [0.94634345, 0.05365655],\n",
       "       [0.92973315, 0.07026685],\n",
       "       [0.96086325, 0.03913675],\n",
       "       [0.59143817, 0.40856183],\n",
       "       [0.00530922, 0.99469078],\n",
       "       [0.05110466, 0.94889534],\n",
       "       [0.01188396, 0.98811604],\n",
       "       [0.00301136, 0.99698864],\n",
       "       [0.08621042, 0.91378958],\n",
       "       [0.0722876 , 0.9277124 ],\n",
       "       [0.96915567, 0.03084433],\n",
       "       [0.1076925 , 0.8923075 ],\n",
       "       [0.88203407, 0.11796593],\n",
       "       [0.24032291, 0.75967709],\n",
       "       [0.0092157 , 0.9907843 ],\n",
       "       [0.17828154, 0.82171846],\n",
       "       [0.99626947, 0.00373053],\n",
       "       [0.01253427, 0.98746573],\n",
       "       [0.99143147, 0.00856853],\n",
       "       [0.72256438, 0.27743562],\n",
       "       [0.85157821, 0.14842179]])"
      ]
     },
     "execution_count": 12,
     "metadata": {},
     "output_type": "execute_result"
    }
   ],
   "source": [
    "log_reg.predict_proba(x_test)"
   ]
  },
  {
   "cell_type": "code",
   "execution_count": 13,
   "id": "8e811857",
   "metadata": {},
   "outputs": [
    {
     "data": {
      "text/plain": [
       "LinearRegression()"
      ]
     },
     "execution_count": 13,
     "metadata": {},
     "output_type": "execute_result"
    }
   ],
   "source": [
    "Linear_model=LinearRegression()\n",
    "Linear_model.fit(x_train,y_train)"
   ]
  },
  {
   "cell_type": "code",
   "execution_count": 14,
   "id": "530c57f4",
   "metadata": {},
   "outputs": [
    {
     "name": "stdout",
     "output_type": "stream",
     "text": [
      "[0.37329678]\n"
     ]
    }
   ],
   "source": [
    "print(Linear_model.coef_)"
   ]
  },
  {
   "cell_type": "code",
   "execution_count": 15,
   "id": "e4999477",
   "metadata": {},
   "outputs": [
    {
     "data": {
      "text/plain": [
       "0.4985795446826205"
      ]
     },
     "execution_count": 15,
     "metadata": {},
     "output_type": "execute_result"
    }
   ],
   "source": [
    "intercept=Linear_model.intercept_\n",
    "intercept"
   ]
  },
  {
   "cell_type": "code",
   "execution_count": 16,
   "id": "d5167c1c",
   "metadata": {},
   "outputs": [
    {
     "data": {
      "text/html": [
       "<div>\n",
       "<style scoped>\n",
       "    .dataframe tbody tr th:only-of-type {\n",
       "        vertical-align: middle;\n",
       "    }\n",
       "\n",
       "    .dataframe tbody tr th {\n",
       "        vertical-align: top;\n",
       "    }\n",
       "\n",
       "    .dataframe thead th {\n",
       "        text-align: right;\n",
       "    }\n",
       "</style>\n",
       "<table border=\"1\" class=\"dataframe\">\n",
       "  <thead>\n",
       "    <tr style=\"text-align: right;\">\n",
       "      <th></th>\n",
       "      <th>0</th>\n",
       "      <th>Confirmed</th>\n",
       "      <th>predConfirmed</th>\n",
       "    </tr>\n",
       "  </thead>\n",
       "  <tbody>\n",
       "    <tr>\n",
       "      <th>0</th>\n",
       "      <td>-1.221940</td>\n",
       "      <td>0</td>\n",
       "      <td>0.042433</td>\n",
       "    </tr>\n",
       "    <tr>\n",
       "      <th>1</th>\n",
       "      <td>-2.008690</td>\n",
       "      <td>0</td>\n",
       "      <td>-0.251258</td>\n",
       "    </tr>\n",
       "    <tr>\n",
       "      <th>2</th>\n",
       "      <td>-1.580372</td>\n",
       "      <td>0</td>\n",
       "      <td>-0.091368</td>\n",
       "    </tr>\n",
       "    <tr>\n",
       "      <th>3</th>\n",
       "      <td>0.182918</td>\n",
       "      <td>1</td>\n",
       "      <td>0.566862</td>\n",
       "    </tr>\n",
       "    <tr>\n",
       "      <th>4</th>\n",
       "      <td>-1.006640</td>\n",
       "      <td>0</td>\n",
       "      <td>0.122804</td>\n",
       "    </tr>\n",
       "    <tr>\n",
       "      <th>5</th>\n",
       "      <td>-0.907642</td>\n",
       "      <td>0</td>\n",
       "      <td>0.159760</td>\n",
       "    </tr>\n",
       "    <tr>\n",
       "      <th>6</th>\n",
       "      <td>-1.120575</td>\n",
       "      <td>0</td>\n",
       "      <td>0.080272</td>\n",
       "    </tr>\n",
       "    <tr>\n",
       "      <th>7</th>\n",
       "      <td>-0.145472</td>\n",
       "      <td>1</td>\n",
       "      <td>0.444275</td>\n",
       "    </tr>\n",
       "    <tr>\n",
       "      <th>8</th>\n",
       "      <td>1.784477</td>\n",
       "      <td>1</td>\n",
       "      <td>1.164719</td>\n",
       "    </tr>\n",
       "    <tr>\n",
       "      <th>9</th>\n",
       "      <td>0.988246</td>\n",
       "      <td>1</td>\n",
       "      <td>0.867489</td>\n",
       "    </tr>\n",
       "    <tr>\n",
       "      <th>10</th>\n",
       "      <td>1.504650</td>\n",
       "      <td>1</td>\n",
       "      <td>1.060260</td>\n",
       "    </tr>\n",
       "    <tr>\n",
       "      <th>11</th>\n",
       "      <td>1.980597</td>\n",
       "      <td>1</td>\n",
       "      <td>1.237930</td>\n",
       "    </tr>\n",
       "    <tr>\n",
       "      <th>12</th>\n",
       "      <td>0.795140</td>\n",
       "      <td>1</td>\n",
       "      <td>0.795403</td>\n",
       "    </tr>\n",
       "    <tr>\n",
       "      <th>13</th>\n",
       "      <td>0.861021</td>\n",
       "      <td>1</td>\n",
       "      <td>0.819996</td>\n",
       "    </tr>\n",
       "    <tr>\n",
       "      <th>14</th>\n",
       "      <td>-1.205553</td>\n",
       "      <td>0</td>\n",
       "      <td>0.048550</td>\n",
       "    </tr>\n",
       "    <tr>\n",
       "      <th>15</th>\n",
       "      <td>0.710308</td>\n",
       "      <td>1</td>\n",
       "      <td>0.763735</td>\n",
       "    </tr>\n",
       "    <tr>\n",
       "      <th>16</th>\n",
       "      <td>-0.711040</td>\n",
       "      <td>0</td>\n",
       "      <td>0.233151</td>\n",
       "    </tr>\n",
       "    <tr>\n",
       "      <th>17</th>\n",
       "      <td>0.378384</td>\n",
       "      <td>1</td>\n",
       "      <td>0.639829</td>\n",
       "    </tr>\n",
       "    <tr>\n",
       "      <th>18</th>\n",
       "      <td>1.593167</td>\n",
       "      <td>1</td>\n",
       "      <td>1.093304</td>\n",
       "    </tr>\n",
       "    <tr>\n",
       "      <th>19</th>\n",
       "      <td>0.508286</td>\n",
       "      <td>1</td>\n",
       "      <td>0.688321</td>\n",
       "    </tr>\n",
       "    <tr>\n",
       "      <th>20</th>\n",
       "      <td>-1.942686</td>\n",
       "      <td>0</td>\n",
       "      <td>-0.226619</td>\n",
       "    </tr>\n",
       "    <tr>\n",
       "      <th>21</th>\n",
       "      <td>1.486071</td>\n",
       "      <td>1</td>\n",
       "      <td>1.053325</td>\n",
       "    </tr>\n",
       "    <tr>\n",
       "      <th>22</th>\n",
       "      <td>-1.654578</td>\n",
       "      <td>0</td>\n",
       "      <td>-0.119069</td>\n",
       "    </tr>\n",
       "    <tr>\n",
       "      <th>23</th>\n",
       "      <td>-0.347772</td>\n",
       "      <td>0</td>\n",
       "      <td>0.368757</td>\n",
       "    </tr>\n",
       "    <tr>\n",
       "      <th>24</th>\n",
       "      <td>-0.619828</td>\n",
       "      <td>0</td>\n",
       "      <td>0.267200</td>\n",
       "    </tr>\n",
       "  </tbody>\n",
       "</table>\n",
       "</div>"
      ],
      "text/plain": [
       "           0  Confirmed  predConfirmed\n",
       "0  -1.221940          0       0.042433\n",
       "1  -2.008690          0      -0.251258\n",
       "2  -1.580372          0      -0.091368\n",
       "3   0.182918          1       0.566862\n",
       "4  -1.006640          0       0.122804\n",
       "5  -0.907642          0       0.159760\n",
       "6  -1.120575          0       0.080272\n",
       "7  -0.145472          1       0.444275\n",
       "8   1.784477          1       1.164719\n",
       "9   0.988246          1       0.867489\n",
       "10  1.504650          1       1.060260\n",
       "11  1.980597          1       1.237930\n",
       "12  0.795140          1       0.795403\n",
       "13  0.861021          1       0.819996\n",
       "14 -1.205553          0       0.048550\n",
       "15  0.710308          1       0.763735\n",
       "16 -0.711040          0       0.233151\n",
       "17  0.378384          1       0.639829\n",
       "18  1.593167          1       1.093304\n",
       "19  0.508286          1       0.688321\n",
       "20 -1.942686          0      -0.226619\n",
       "21  1.486071          1       1.053325\n",
       "22 -1.654578          0      -0.119069\n",
       "23 -0.347772          0       0.368757\n",
       "24 -0.619828          0       0.267200"
      ]
     },
     "execution_count": 16,
     "metadata": {},
     "output_type": "execute_result"
    }
   ],
   "source": [
    "y_pred=Linear_model.predict(x_test)\n",
    "pred=pd.DataFrame(x_test)\n",
    "pred['Confirmed']=y_test\n",
    "pred['predConfirmed']=y_pred\n",
    "pred"
   ]
  },
  {
   "cell_type": "code",
   "execution_count": 1,
   "id": "f14e2f4d",
   "metadata": {},
   "outputs": [],
   "source": [
    "import os\n",
    "os.environ['SPARK_HOME']=r'C:\\Users\\admin\\AppData\\Local\\Programs\\Python\\Python39\\Scripts\\spark-3.2.1-bin-hadoop2.7'"
   ]
  },
  {
   "cell_type": "code",
   "execution_count": 2,
   "id": "477c9145",
   "metadata": {},
   "outputs": [],
   "source": [
    "import findspark\n",
    "findspark.init()"
   ]
  },
  {
   "cell_type": "code",
   "execution_count": null,
   "id": "033e0151",
   "metadata": {},
   "outputs": [],
   "source": [
    "from pyspark.sql import SparkSession\n",
    "spark = SparkSession.builder.appName('BIGDATAPROJECT').getOrCreate()\n",
    "data = spark.read.csv('dataset.csv',inferSchema=True,header=True)"
   ]
  },
  {
   "cell_type": "code",
   "execution_count": null,
   "id": "93a8bf69",
   "metadata": {},
   "outputs": [],
   "source": [
    "data.printSchema()"
   ]
  },
  {
   "cell_type": "code",
   "execution_count": null,
   "id": "de4dbcd0",
   "metadata": {},
   "outputs": [],
   "source": [
    "data.columns"
   ]
  },
  {
   "cell_type": "code",
   "execution_count": null,
   "id": "2be395e3",
   "metadata": {},
   "outputs": [],
   "source": [
    "my_cols = data.select([\n",
    " 'Country',\n",
    " 'Confirmed',\n",
    " 'Recovered',\n",
    " 'Deaths',])\n",
    "my_final_data = my_cols.na.drop()"
   ]
  },
  {
   "cell_type": "code",
   "execution_count": null,
   "id": "402d2807",
   "metadata": {},
   "outputs": [],
   "source": []
  },
  {
   "cell_type": "code",
   "execution_count": null,
   "id": "c6def55a",
   "metadata": {},
   "outputs": [],
   "source": []
  }
 ],
 "metadata": {
  "kernelspec": {
   "display_name": "Python 3 (ipykernel)",
   "language": "python",
   "name": "python3"
  },
  "language_info": {
   "codemirror_mode": {
    "name": "ipython",
    "version": 3
   },
   "file_extension": ".py",
   "mimetype": "text/x-python",
   "name": "python",
   "nbconvert_exporter": "python",
   "pygments_lexer": "ipython3",
   "version": "3.9.5"
  }
 },
 "nbformat": 4,
 "nbformat_minor": 5
}
